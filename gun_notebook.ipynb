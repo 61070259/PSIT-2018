{
 "cells": [
  {
   "cell_type": "markdown",
   "metadata": {
    "scrolled": true
   },
   "source": [
    "# PSIT-PROJECT: GUN VIOLENCE DATA"
   ]
  },
  {
   "cell_type": "markdown",
   "metadata": {},
   "source": [
    "### Open file and save data as case"
   ]
  },
  {
   "cell_type": "code",
   "execution_count": 41,
   "metadata": {},
   "outputs": [],
   "source": [
    "import csv\n",
    "gun_data = open(\"gun-violence-data_01-2013_03-2018_edited.csv\", encoding=\"utf8\")\n",
    "read = csv.reader(gun_data)\n",
    "case = [row for row in read]"
   ]
  },
  {
   "cell_type": "markdown",
   "metadata": {},
   "source": [
    "### Counting data in each year"
   ]
  },
  {
   "cell_type": "markdown",
   "metadata": {},
   "source": [
    "#### Count number of case that happened from 1st January 2013 to 31th December 2017 and add them to dictionary."
   ]
  },
  {
   "cell_type": "code",
   "execution_count": 42,
   "metadata": {},
   "outputs": [],
   "source": [
    "case_count = {\"2013\": 0, \"2014\": 0, \"2015\": 0, \"2016\": 0, \"2017\": 0}\n",
    "total_case = [0, 0, 0, 0, 0]\n",
    "for case_data in range(1, len(case)):\n",
    "    date = case[case_data][0].split(\"/\")\n",
    "    if date[2] == \"2013\":\n",
    "        total_case[0] += 1\n",
    "        case_count[\"2013\"] = total_case[0]\n",
    "    elif date[2] == \"2014\":\n",
    "        total_case[1] += 1\n",
    "        case_count[\"2014\"] = total_case[1]\n",
    "    elif date[2] == \"2015\":\n",
    "        total_case[2] += 1\n",
    "        case_count[\"2015\"] = total_case[2]\n",
    "    elif date[2] == \"2016\":\n",
    "        total_case[3] += 1\n",
    "        case_count[\"2016\"] = total_case[3]\n",
    "    elif date[2] == \"2017\":\n",
    "        total_case[4] += 1\n",
    "        case_count[\"2017\"] = total_case[4]"
   ]
  },
  {
   "cell_type": "markdown",
   "metadata": {},
   "source": [
    "#### Count case with deaths and injured from 1st January 2013 to 31th December 2017 and add them to dictionary."
   ]
  },
  {
   "cell_type": "code",
   "execution_count": 43,
   "metadata": {},
   "outputs": [],
   "source": [
    "case_with_victim = {\"2013\": 0, \"2014\": 0, \"2015\": 0, \"2016\": 0, \"2017\": 0}\n",
    "total_case_with_victim = [0, 0, 0, 0, 0]\n",
    "for case_data in range(1, len(case)):\n",
    "    date = case[case_data][0].split(\"/\")\n",
    "    death = int(case[case_data][1])\n",
    "    injured = int(case[case_data][2])\n",
    "    if date[2] == \"2013\" and death+injured > 0:\n",
    "        total_case_with_victim[0] += 1\n",
    "        case_with_victim[\"2013\"] = total_case_with_victim[0]\n",
    "    elif date[2] == \"2014\" and death+injured > 0:\n",
    "        total_case_with_victim[1] += 1\n",
    "        case_with_victim[\"2014\"] = total_case_with_victim[1]\n",
    "    elif date[2] == \"2015\" and death+injured > 0:\n",
    "        total_case_with_victim[2] += 1\n",
    "        case_with_victim[\"2015\"] = total_case_with_victim[2]\n",
    "    elif date[2] == \"2016\" and death+injured > 0:\n",
    "        total_case_with_victim[3] += 1\n",
    "        case_with_victim[\"2016\"] = total_case_with_victim[3]\n",
    "    elif date[2] == \"2017\" and death+injured > 0:\n",
    "        total_case_with_victim[4] += 1\n",
    "        case_with_victim[\"2017\"] = total_case_with_victim[4]"
   ]
  },
  {
   "cell_type": "markdown",
   "metadata": {},
   "source": [
    "####  Count all deaths and injured from 1st January 2013 to 31th December 2017 and add them to dictionary."
   ]
  },
  {
   "cell_type": "code",
   "execution_count": 44,
   "metadata": {},
   "outputs": [],
   "source": [
    "victim = {\"2013\": 0, \"2014\": 0, \"2015\": 0, \"2016\": 0, \"2017\": 0,}\n",
    "total_victim = [0, 0, 0, 0, 0]\n",
    "for case_data in range(1, len(case)):\n",
    "    date = case[case_data][0].split(\"/\")\n",
    "    death = int(case[case_data][1])\n",
    "    injured = int(case[case_data][2])\n",
    "    if date[2] == \"2013\":\n",
    "        total_victim[0] += death+injured\n",
    "        victim[\"2013\"] = total_victim[0]\n",
    "    elif date[2] == \"2014\":\n",
    "        total_victim[1] += death+injured\n",
    "        victim[\"2014\"] = total_victim[1]\n",
    "    elif date[2] == \"2015\":\n",
    "        total_victim[2] += death+injured\n",
    "        victim[\"2015\"] = total_victim[2]\n",
    "    elif date[2] == \"2016\":\n",
    "        total_victim[3] += death+injured\n",
    "        victim[\"2016\"] = total_victim[3]\n",
    "    elif date[2] == \"2017\":\n",
    "        total_victim[4] += death+injured\n",
    "        victim[\"2017\"] = total_victim[4]"
   ]
  },
  {
   "cell_type": "markdown",
   "metadata": {},
   "source": [
    "#### Count all cases from 1st January to 31th March in each year and add them to dictionary."
   ]
  },
  {
   "cell_type": "code",
   "execution_count": 45,
   "metadata": {},
   "outputs": [],
   "source": [
    "jan_mar = {\"2013\": 0, \"2014\": 0, \"2015\": 0, \"2016\": 0, \"2017\": 0, \"2018\": 0}\n",
    "case_in_3_month = [0, 0, 0, 0, 0, 0]\n",
    "for case_data in range(1, len(case)):\n",
    "    date = case[case_data][0].split(\"/\")\n",
    "    if date[2] == \"2013\" and int(date[1]) <= 3:\n",
    "        case_in_3_month[0] += 1\n",
    "        jan_mar[\"2013\"] = case_in_3_month[0]\n",
    "    elif date[2] == \"2014\" and int(date[1]) <= 3:\n",
    "        case_in_3_month[1] += 1\n",
    "        jan_mar[\"2014\"] = case_in_3_month[1]\n",
    "    elif date[2] == \"2015\" and int(date[1]) <= 3:\n",
    "        case_in_3_month[2] += 1\n",
    "        jan_mar[\"2015\"] = case_in_3_month[2]\n",
    "    elif date[2] == \"2016\" and int(date[1]) <= 3:\n",
    "        case_in_3_month[3] += 1\n",
    "        jan_mar[\"2016\"] = case_in_3_month[3]\n",
    "    elif date[2] == \"2017\" and int(date[1]) <= 3:\n",
    "        case_in_3_month[4] += 1\n",
    "        jan_mar[\"2017\"] = case_in_3_month[4]\n",
    "    elif date[2] == \"2018\" and int(date[1]) <= 3:\n",
    "        case_in_3_month[5] += 1\n",
    "        jan_mar[\"2018\"] = case_in_3_month[5]"
   ]
  },
  {
   "cell_type": "markdown",
   "metadata": {},
   "source": [
    "### Graph plotting"
   ]
  },
  {
   "cell_type": "code",
   "execution_count": 46,
   "metadata": {},
   "outputs": [],
   "source": [
    "%matplotlib inline\n",
    "import matplotlib.pyplot as plt"
   ]
  },
  {
   "cell_type": "markdown",
   "metadata": {},
   "source": [
    "#### Total case graph"
   ]
  },
  {
   "cell_type": "code",
   "execution_count": 47,
   "metadata": {},
   "outputs": [
    {
     "data": {
      "image/png": "[encoded data removed]",
      "text/plain": [
       "<Figure size 432x288 with 1 Axes>"
      ]
     },
     "metadata": {},
     "output_type": "display_data"
    },
    {
     "name": "stdout",
     "output_type": "stream",
     "text": [
      "{'2013': 278, '2014': 51854, '2015': 53579, '2016': 58763, '2017': 61401}\n",
      "Total case: 225875\n"
     ]
    }
   ],
   "source": [
    "x = [\"2013\", \"2014\", \"2015\", \"2016\", \"2017\"]\n",
    "y = [case_count[\"2013\"], case_count[\"2014\"], case_count[\"2015\"], case_count[\"2016\"], case_count[\"2017\"]]\n",
    "plt.plot(x, y, \"-r^\")\n",
    "plt.xlabel(\"Year\")\n",
    "plt.ylabel(\"Amount of case\")\n",
    "plt.show()\n",
    "print(case_count)\n",
    "print(\"Total case: %d\"%sum(total_case))"
   ]
  },
  {
   "cell_type": "markdown",
   "metadata": {},
   "source": [
    "#### Total case with victim graph"
   ]
  },
  {
   "cell_type": "code",
   "execution_count": 48,
   "metadata": {},
   "outputs": [
    {
     "data": {
      "image/png": "[encoded data removed]",
      "text/plain": [
       "<Figure size 432x288 with 1 Axes>"
      ]
     },
     "metadata": {},
     "output_type": "display_data"
    },
    {
     "name": "stdout",
     "output_type": "stream",
     "text": [
      "{'2013': 278, '2014': 28154, '2015': 32458, '2016': 36539, '2017': 37129}\n",
      "Total crime with victim: 134558\n"
     ]
    }
   ],
   "source": [
    "x = [\"2013\", \"2014\", \"2015\", \"2016\", \"2017\"]\n",
    "y = [case_with_victim[\"2013\"], case_with_victim[\"2014\"], case_with_victim[\"2015\"], case_with_victim[\"2016\"], case_with_victim[\"2017\"]]\n",
    "plt.plot(x, y, \"-go\")\n",
    "plt.xlabel(\"Year\")\n",
    "plt.ylabel(\"Case with victim\")\n",
    "plt.show()\n",
    "print(case_with_victim)\n",
    "print(\"Total crime with victim: %d\"%sum(total_case_with_victim))"
   ]
  },
  {
   "cell_type": "markdown",
   "metadata": {},
   "source": [
    "#### Total victim graph"
   ]
  },
  {
   "cell_type": "code",
   "execution_count": 49,
   "metadata": {},
   "outputs": [
    {
     "data": {
      "image/png": "[encoded data removed]",
      "text/plain": [
       "<Figure size 432x288 with 1 Axes>"
      ]
     },
     "metadata": {},
     "output_type": "display_data"
    },
    {
     "name": "stdout",
     "output_type": "stream",
     "text": [
      "{'2013': 1296, '2014': 35559, '2015': 40451, '2016': 45646, '2017': 46214}\n",
      "Total victim: 169166\n"
     ]
    }
   ],
   "source": [
    "x = [\"2013\", \"2014\", \"2015\", \"2016\", \"2017\"]\n",
    "y = [victim[\"2013\"], victim[\"2014\"], victim[\"2015\"], victim[\"2016\"], victim[\"2017\"]]\n",
    "plt.plot(x, y, \"-bs\")\n",
    "plt.xlabel(\"Year\")\n",
    "plt.ylabel(\"Victim\")\n",
    "plt.show()\n",
    "print(victim)\n",
    "print(\"Total victim: %d\"%sum(total_victim))"
   ]
  },
  {
   "cell_type": "markdown",
   "metadata": {},
   "source": [
    "#### Total case in 3 month from every year"
   ]
  },
  {
   "cell_type": "code",
   "execution_count": 50,
   "metadata": {},
   "outputs": [
    {
     "data": {
      "image/png": "[encoded data removed]",
      "text/plain": [
       "<Figure size 432x288 with 1 Axes>"
      ]
     },
     "metadata": {},
     "output_type": "display_data"
    },
    {
     "name": "stdout",
     "output_type": "stream",
     "text": [
      "{'2013': 46, '2014': 11109, '2015': 11329, '2016': 13449, '2017': 14837, '2018': 13802}\n",
      "Total case in 3 months: 64572\n"
     ]
    }
   ],
   "source": [
    "x = [\"2013\", \"2014\",\"2015\", \"2016\", \"2017\", \"2018\"]\n",
    "y = [jan_mar[\"2013\"], jan_mar[\"2014\"], jan_mar[\"2015\"], jan_mar[\"2016\"], jan_mar[\"2017\"], jan_mar[\"2018\"]]\n",
    "plt.plot(x, y, \"-yx\")\n",
    "plt.xlabel(\"Year\")\n",
    "plt.ylabel(\"Case in 3 months\")\n",
    "plt.show()\n",
    "print(jan_mar)\n",
    "print(\"Total case in 3 months: %d\"%sum(case_in_3_month))"
   ]
  },
  {
   "cell_type": "code",
   "execution_count": null,
   "metadata": {},
   "outputs": [],
   "source": []
  }
 ],
 "metadata": {
  "kernelspec": {
   "display_name": "Python 3",
   "language": "python",
   "name": "python3"
  },
  "language_info": {
   "codemirror_mode": {
    "name": "ipython",
    "version": 3
   },
   "file_extension": ".py",
   "mimetype": "text/x-python",
   "name": "python",
   "nbconvert_exporter": "python",
   "pygments_lexer": "ipython3",
   "version": "3.6.5"
  }
 },
 "nbformat": 4,
 "nbformat_minor": 2
}
